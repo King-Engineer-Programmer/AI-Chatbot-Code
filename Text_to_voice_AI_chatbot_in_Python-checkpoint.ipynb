{
 "cells": [
  {
   "cell_type": "code",
   "execution_count": 1,
   "id": "65988da3",
   "metadata": {},
   "outputs": [],
   "source": [
    "#                            My topic is using AI to help in marketing \n",
    "\n",
    "\n",
    "# This code will pull data from a dataframe that is in a CSV format\n",
    "# This code will return data from the CSV as a report for all the years that are provided in the CSV\n",
    "# This code will then conclude the operation\n",
    "\n",
    "# Future work would be to connect to a database and link data to a customer id and use algorithms to help customers,\n",
    "# extract insights from their data that can used in helping with marketing\n",
    "\n"
   ]
  },
  {
   "cell_type": "code",
   "execution_count": 2,
   "id": "9b107210",
   "metadata": {},
   "outputs": [],
   "source": [
    "import pandas as pd\n",
    "import os\n",
    "business_data = pd.read_csv(\"C:/Users/frank/Desktop/Python AI Class/business.retailsales.csv\")\n",
    "business_data_2=pd.read_csv(\"C:/Users/frank/Desktop/Python AI Class/business.retailsales2.csv\")"
   ]
  },
  {
   "cell_type": "code",
   "execution_count": 3,
   "id": "0d8ee2dc",
   "metadata": {},
   "outputs": [],
   "source": [
    "#  This class is called company profile. This is just askign a series of questions \n",
    "\n",
    "import pyttsx3\n",
    "\n",
    "\n",
    "class CompanyProfile:\n",
    "     \n",
    "    \n",
    "    def one(self):\n",
    "        # say method on the engine that passing input text to be spoken\n",
    "        engine.say('Hello, what are your goals for this project?')\n",
    "        engine.runAndWait() # this is a pause so that the option does not appear quickly\n",
    "        print('''1. Print yearly report ''') \n",
    "        engine.runAndWait() # this is a pause so that the option does not appear quickly\n",
    "        \n",
    "        \n",
    "    def options(self):\n",
    "        year_array=[] # creating an empty array for the unique data coming from the dataframe\n",
    "        \n",
    "        for years in business_data_2['Year'].unique(): # getting the unique years\n",
    "            year_array.append(years) # appending the array\n",
    "        \n",
    "        yearData=business_data_2['Year'].nunique() # creating a variable for the formatted data\n",
    "        engine.runAndWait()\n",
    "        engine.say('Based on your customer information, I see that you have {c} years worth of data in our system'.format(c = yearData))\n",
    "       \n",
    "        \n",
    "        for years in year_array:\n",
    "           engine.runAndWait()\n",
    "           engine.say(' {c} '.format(c = years)) \n",
    "           engine.runAndWait()\n",
    "      \n",
    "    def reports(self):\n",
    "         engine.runAndWait()\n",
    "         engine.say('Here is the sales reports for your which our bot algorithm has provided for each year.  ') \n",
    "         output=business_data_2.groupby('Year').sum()\n",
    "         print(output)\n",
    "         engine.runAndWait()\n",
    "            \n",
    "    def finish(self):\n",
    "        engine.runAndWait()\n",
    "        engine.say('If there is nothing else that I can assist you with, I will send an email of our conversation along with a customer survey. Thanks and have a great day') \n",
    "        engine.runAndWait()\n",
    "\n",
    "\n",
    "        \n",
    "        \n",
    "        \n",
    "        \n",
    "        \n",
    "        \n",
    "        \n",
    "        \n",
    "        \n",
    "        \n",
    "#       Future work  \n",
    "        \n",
    "# \\n2. Increase Sales\\n3. Create a marketing strategy using data insights\\n4. Learn who my competitors are\\n5. Data on how my customers perceive my brand\\n6. How to become more visible online\\n7. Web analytics explanations\\n8. View market opportunities\\n9. Determine my target audience''')\n",
    "        "
   ]
  },
  {
   "cell_type": "code",
   "execution_count": 4,
   "id": "c5dbbcaa",
   "metadata": {},
   "outputs": [
    {
     "name": "stdout",
     "output_type": "stream",
     "text": [
      "1. Print yearly report \n",
      "Please input your option1\n",
      "      index  Total Orders  Gross Sales  Discounts  Returns  Net Sales  \\\n",
      "Year                                                                    \n",
      "2017      0           836     97342.05   -1849.15 -3972.40   91520.50   \n",
      "2018      0          1141    113313.15   -3112.39 -5412.58  104788.18   \n",
      "2019      0          1520    143762.15   -6252.24 -7713.51  129796.40   \n",
      "\n",
      "      Shipping  Total Sales  \n",
      "Year                         \n",
      "2017  11976.77    103497.27  \n",
      "2018  18780.10    123568.28  \n",
      "2019  26101.23    155900.33  \n"
     ]
    }
   ],
   "source": [
    "# This is the code driver\n",
    "\n",
    "varone=CompanyProfile() # Instatiating the class\n",
    "engine = pyttsx3.init() # Creating a vraible for initializing\n",
    "varone.one() # calling the first function in the class for the voice \n",
    "input_option=int(input(\"Please input your option\")) # input option calls the class to execute a task\n",
    "\n",
    "if input_option==1:\n",
    " varone.options()# the option for the function\n",
    " varone.reports()# returns the reports from a dataframe\n",
    " varone.finish() # salutation function\n",
    "\n",
    "else:\n",
    "    print(\" this is an invalid input\")\n",
    "\n"
   ]
  },
  {
   "cell_type": "code",
   "execution_count": null,
   "id": "affd7ec0",
   "metadata": {},
   "outputs": [],
   "source": []
  },
  {
   "cell_type": "code",
   "execution_count": null,
   "id": "c3b885f1",
   "metadata": {},
   "outputs": [],
   "source": []
  }
 ],
 "metadata": {
  "kernelspec": {
   "display_name": "Python 3",
   "language": "python",
   "name": "python3"
  },
  "language_info": {
   "codemirror_mode": {
    "name": "ipython",
    "version": 3
   },
   "file_extension": ".py",
   "mimetype": "text/x-python",
   "name": "python",
   "nbconvert_exporter": "python",
   "pygments_lexer": "ipython3",
   "version": "3.8.8"
  }
 },
 "nbformat": 4,
 "nbformat_minor": 5
}
